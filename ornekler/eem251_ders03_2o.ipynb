{
 "cells": [
  {
   "cell_type": "code",
   "execution_count": 5,
   "metadata": {},
   "outputs": [
    {
     "data": {
      "text/plain": [
       "[20, 17, 14, 11, 8]"
      ]
     },
     "execution_count": 5,
     "metadata": {},
     "output_type": "execute_result"
    }
   ],
   "source": [
    "list(range(1,5))\n",
    "list(range(1,10,2))\n",
    "list(range(20,5,-3))\n"
   ]
  },
  {
   "cell_type": "code",
   "execution_count": null,
   "metadata": {},
   "outputs": [],
   "source": [
    "#tuple : tanimlama grubu\n",
    "a=[1,2,3,4] #liste\n",
    "b=(1,2,3,4) # tuple\n",
    "b[0:2]\n",
    "#tuple ı tanimladiktan sonra değiştiremezsiniz.\n",
    "#immutable\n",
    "# b[1]=10 kodu hata verecektir."
   ]
  },
  {
   "cell_type": "code",
   "execution_count": 11,
   "metadata": {},
   "outputs": [
    {
     "data": {
      "text/plain": [
       "[1, 101, 2, 3, 4]"
      ]
     },
     "execution_count": 11,
     "metadata": {},
     "output_type": "execute_result"
    }
   ],
   "source": [
    "a=[1,2,3,4]\n",
    "#dir(a)\n",
    "#help(a.insert)\n",
    "a.insert(1,101)\n",
    "a"
   ]
  },
  {
   "cell_type": "code",
   "execution_count": 12,
   "metadata": {},
   "outputs": [
    {
     "data": {
      "text/plain": [
       "35"
      ]
     },
     "execution_count": 12,
     "metadata": {},
     "output_type": "execute_result"
    }
   ],
   "source": [
    "#pythonda 3. dizi yapısı sozluk (dictionary)\n",
    "\n",
    "a={\"isim\":\"ali\", \"soyisim\":\"şentürk\", \"yas\":35}\n",
    "a[\"yas\"]"
   ]
  },
  {
   "cell_type": "code",
   "execution_count": 13,
   "metadata": {},
   "outputs": [
    {
     "data": {
      "text/plain": [
       "5.0"
      ]
     },
     "execution_count": 13,
     "metadata": {},
     "output_type": "execute_result"
    }
   ],
   "source": [
    "#fonksiyonlar\n",
    "def ort3(a,b,c):\n",
    "    d=a+b+c\n",
    "    d=d/3\n",
    "    return d\n",
    "\n",
    "x=ort3(3,5,7)\n",
    "x"
   ]
  },
  {
   "cell_type": "code",
   "execution_count": 38,
   "metadata": {},
   "outputs": [
    {
     "name": "stdout",
     "output_type": "stream",
     "text": [
      "7.5\n"
     ]
    }
   ],
   "source": [
    "#dik ucgenin alani\n",
    "def alan(t,h):\n",
    "    a=t*h/2\n",
    "    return a\n",
    "\n",
    "print(alan(3,5))"
   ]
  },
  {
   "cell_type": "code",
   "execution_count": 18,
   "metadata": {},
   "outputs": [
    {
     "name": "stdout",
     "output_type": "stream",
     "text": [
      "[14, 5, 12, 13, 6, 12, 8, 12, 13, 19]\n",
      "19\n"
     ]
    }
   ],
   "source": [
    "import random\n",
    "# help(random.randint)\n",
    "x=random.randint(1,20)\n",
    "# print(x)\n",
    "a=[] #bos bir a listesi\n",
    "# elemanları 1-20 arasında rastgele seçilen\n",
    "# 10 elemanlı dizi\n",
    "for i in range(10):\n",
    "    x=random.randint(1,20)\n",
    "    a.append(x)\n",
    "print(a)\n",
    "\n",
    "def en_buyuk(liste):\n",
    "    eb=liste[0]\n",
    "    for i in range(1, len(liste)):\n",
    "        if(eb<liste[i]):\n",
    "            eb=liste[i]\n",
    "    return eb\n",
    "\n",
    "print(en_buyuk(a))"
   ]
  },
  {
   "cell_type": "code",
   "execution_count": 19,
   "metadata": {},
   "outputs": [
    {
     "name": "stdout",
     "output_type": "stream",
     "text": [
      "[5, 6, 8, 12, 12, 12, 13, 13, 14, 19]\n",
      "dizinin en buyuk elemani:  19\n"
     ]
    }
   ],
   "source": [
    "#veya pythonun hazır fonksiyonlarını kullanarak\n",
    "a\n",
    "a.sort()\n",
    "print(a)\n",
    "print(\"dizinin en buyuk elemani: \",a[-1])"
   ]
  },
  {
   "cell_type": "code",
   "execution_count": 20,
   "metadata": {},
   "outputs": [
    {
     "data": {
      "text/plain": [
       "19"
      ]
     },
     "execution_count": 20,
     "metadata": {},
     "output_type": "execute_result"
    }
   ],
   "source": [
    "#en kolay yöntem\n",
    "max(a)"
   ]
  },
  {
   "cell_type": "code",
   "execution_count": 21,
   "metadata": {},
   "outputs": [
    {
     "name": "stdout",
     "output_type": "stream",
     "text": [
      "sayi 10'a esit\n"
     ]
    }
   ],
   "source": [
    "#if-else yapısı\n",
    "a=10\n",
    "if a>10:\n",
    "    print(\"sayi 10'dan buyuk\")\n",
    "elif a==10:\n",
    "    print(\"sayi 10'a esit\")\n",
    "else:\n",
    "    print(\"sayi 10'dan kucuk\")\n"
   ]
  },
  {
   "cell_type": "code",
   "execution_count": 22,
   "metadata": {},
   "outputs": [
    {
     "name": "stdout",
     "output_type": "stream",
     "text": [
      "0 1 2 3 4 \n",
      "2 4 6 8 \n",
      "100 93 86 79 72 65 58 51 44 37 30 23 16 9 2 "
     ]
    }
   ],
   "source": [
    "#for döngüsü\n",
    "for i in range(5):\n",
    "    print(i, end=\" \")\n",
    "print()\n",
    "for i in range(2,10,2):\n",
    "    print(i, end=\" \")\n",
    "print()\n",
    "for i in range(100,0,-7):\n",
    "    print(i, end=\" \")\n",
    "    \n"
   ]
  },
  {
   "cell_type": "code",
   "execution_count": 149,
   "metadata": {},
   "outputs": [
    {
     "name": "stdout",
     "output_type": "stream",
     "text": [
      "b-i-r- -y-a-z-i- -d-i-z-i-s-i-\n",
      "b-i-r- -y-a-z-i- -d-i-z-i-s-i\n",
      "b-i-r- -y-a-z-i- -d-i-z-i-s-i\n"
     ]
    }
   ],
   "source": [
    "yazi_dizisi=\"bir yazi dizisi\"\n",
    "for karakter in yazi_dizisi:\n",
    "    print(karakter, end=\"-\")\n",
    "\n",
    "print()\n",
    "\n",
    "for i in range(len(yazi_dizisi)-1):\n",
    "    print(yazi_dizisi[i], end=\"-\")\n",
    "print(yazi_dizisi[i+1])\n",
    "\n",
    "for karakter in yazi_dizisi[:-1]:\n",
    "    print(karakter, end=\"-\")\n",
    "print(yazi_dizisi[-1])"
   ]
  },
  {
   "cell_type": "markdown",
   "metadata": {},
   "source": [
    "**Çalısma sorusu:** Rastgele (random) üretilen listede (yukarıdaki örnekteki gibi), tekrar eden sayı olmayacak şekilde programlayın.\n"
   ]
  },
  {
   "cell_type": "code",
   "execution_count": 27,
   "metadata": {},
   "outputs": [
    {
     "name": "stdout",
     "output_type": "stream",
     "text": [
      "ax^2 + bx + c = 0 ifadesinde a: 1\n",
      "ax^2 + bx + c = 0 ifadesinde b: -2\n",
      "ax^2 + bx + c = 0 ifadesinde c: -5\n",
      "1 * x^2 +  -2 * x +  -5 ifadesinin kokleri\n",
      "x1= 3.449489742783178 \n",
      "x2= -1.4494897427831779\n"
     ]
    }
   ],
   "source": [
    "# ax^2 + bx + c = 0 2 dereceden denkleminin koklerini bulan\n",
    "# kok fonksiyonunu yaziniz.\n",
    "import math\n",
    "def kok(a,b,c):\n",
    "    dis=b**2-4*a*c;\n",
    "    x1= (-b +  math.sqrt(dis))/(2*a)\n",
    "    x2= (-b -  math.sqrt(dis))/(2*a)\n",
    "    return (x1,x2)\n",
    "\n",
    "# print(kok(1,-2,-3))\n",
    "a=input(\"ax^2 + bx + c = 0 ifadesinde a: \")\n",
    "b=input(\"ax^2 + bx + c = 0 ifadesinde b: \")\n",
    "c=input(\"ax^2 + bx + c = 0 ifadesinde c: \")\n",
    "a=int(a)\n",
    "b=int(b)\n",
    "c=int(c)\n",
    "x=kok(a,b,c)\n",
    "print(a,\"* x^2 + \",b,\"* x + \",c,\"ifadesinin kokleri\\nx1=\",x[0],\"\\nx2=\",x[1])"
   ]
  },
  {
   "cell_type": "code",
   "execution_count": 28,
   "metadata": {},
   "outputs": [
    {
     "name": "stdout",
     "output_type": "stream",
     "text": [
      "1000001 sayısı asal degildir\n",
      "en buyuk bolen:  9901\n"
     ]
    }
   ],
   "source": [
    "a=1000001\n",
    "asal=True\n",
    "for i in range(2,a):\n",
    "    if(a%i == 0):\n",
    "        asal=False\n",
    "        eb_bolen=i\n",
    "if(asal==True):\n",
    "    print(a,\"sayısı asaldır\")\n",
    "else:\n",
    "    print(a,\"sayısı asal degildir\")\n",
    "    print(\"en buyuk bolen: \",eb_bolen)"
   ]
  },
  {
   "cell_type": "markdown",
   "metadata": {},
   "source": [
    "**Çalışam sorusu:** Yukarıdaki programı fonksiyon haline getirin. Fonksiyon asal_mi(a) şeklinde olsun. True yada False döndürsün."
   ]
  },
  {
   "cell_type": "code",
   "execution_count": 29,
   "metadata": {},
   "outputs": [
    {
     "name": "stdout",
     "output_type": "stream",
     "text": [
      "sayi giriniz: 100\n",
      "[2, 3, 5, 7, 11, 13, 17, 19, 23, 29, 31, 37, 41, 43, 47, 53, 59, 61, 67, 71, 73, 79, 83, 89, 97]\n",
      "toplam:  25\n"
     ]
    }
   ],
   "source": [
    "# bir sayıdan kücük ve esit  asal sayıları  bulan programı yazınzı.\n",
    "\n",
    "x=input(\"sayi giriniz: \")\n",
    "x=int(x)\n",
    "asallar=[]\n",
    "for  a in range(2,x+1):\n",
    "    asal=True\n",
    "    for i in range(2,a):\n",
    "        if(a%i == 0):\n",
    "            asal=False\n",
    "    if(asal==True):\n",
    "        asallar.append(a)\n",
    "print(asallar)\n",
    "print(\"toplam: \",len(asallar))"
   ]
  },
  {
   "cell_type": "code",
   "execution_count": 34,
   "metadata": {},
   "outputs": [
    {
     "name": "stdout",
     "output_type": "stream",
     "text": [
      "e: 101\n",
      "f: 102\n",
      "a: 97\n",
      "a ile l arasinda karakter sayısı: 10\n"
     ]
    }
   ],
   "source": [
    "#karakterlerin ASCII değerleri\n",
    "print(\"e:\",ord(\"e\"))\n",
    "print(\"f:\", ord(\"f\"))\n",
    "print(\"a:\",ord(\"a\"))\n",
    "\n",
    "print(\"a ile l arasinda karakter sayısı:\",ord(\"l\")-ord(\"a\")-1)"
   ]
  },
  {
   "cell_type": "code",
   "execution_count": 194,
   "metadata": {},
   "outputs": [
    {
     "name": "stdout",
     "output_type": "stream",
     "text": [
      "lnqn%gn%rjxfo"
     ]
    }
   ],
   "source": [
    "#sezar şifrelemesi\n",
    "\n",
    "gizli_mesaj=\"gizli bi mesaj\";\n",
    "anahtar=5\n",
    "sifreli_mesaj=[]\n",
    "for karakter in gizli_mesaj:\n",
    "    sifreli_mesaj.append(ord(karakter)+5)\n",
    "\n",
    "for karakter in sifreli_mesaj:\n",
    "    print(chr(karakter), end=\"\")\n"
   ]
  },
  {
   "cell_type": "markdown",
   "metadata": {},
   "source": [
    "**Çalışma Sorusu 1:** Sezar şifrelemesinde şifreli metin ve anahtarı biliyorsanız sifreyi cozen programı yazınız.\n",
    "\n",
    "**Çalışma Sorusu 2:**  Sezar şifrelemesinde sadece şifreli metini biliyorsanız (anahtarı bilmiyorsanız) şifreyi cozen programı yazınız."
   ]
  }
 ],
 "metadata": {
  "kernelspec": {
   "display_name": "Python 3",
   "language": "python",
   "name": "python3"
  },
  "language_info": {
   "codemirror_mode": {
    "name": "ipython",
    "version": 3
   },
   "file_extension": ".py",
   "mimetype": "text/x-python",
   "name": "python",
   "nbconvert_exporter": "python",
   "pygments_lexer": "ipython3",
   "version": "3.6.5"
  }
 },
 "nbformat": 4,
 "nbformat_minor": 2
}
