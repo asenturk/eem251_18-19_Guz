{
 "cells": [
  {
   "cell_type": "code",
   "execution_count": 2,
   "metadata": {},
   "outputs": [
    {
     "name": "stdout",
     "output_type": "stream",
     "text": [
      "1\n",
      "5153632\n",
      "3 tane: eem251eem251eem251\n"
     ]
    }
   ],
   "source": [
    "a=22 \n",
    "print(a%3) #mod alma\n",
    "b=5\n",
    "print(a**b)\n",
    "c=\"eem251\"\n",
    "print(\"3 tane:\" , 3*c)\n"
   ]
  },
  {
   "cell_type": "code",
   "execution_count": 4,
   "metadata": {},
   "outputs": [
    {
     "name": "stdout",
     "output_type": "stream",
     "text": [
      "yazı dizisi devamı\n"
     ]
    }
   ],
   "source": [
    "a=\"yazı dizisi\"\n",
    "print(a, end=\" \")\n",
    "b=\"devamı\"\n",
    "print(b)"
   ]
  },
  {
   "cell_type": "code",
   "execution_count": 3,
   "metadata": {},
   "outputs": [
    {
     "name": "stdout",
     "output_type": "stream",
     "text": [
      "bir sayı giriniz: 7\n",
      "bir sayı giriniz: 9\n",
      "16\n"
     ]
    }
   ],
   "source": [
    "a=int(input(\"bir sayı giriniz: \"))\n",
    "b=int(input(\"bir sayı giriniz: \"))\n",
    "print(a+b)"
   ]
  },
  {
   "cell_type": "code",
   "execution_count": 5,
   "metadata": {},
   "outputs": [
    {
     "name": "stdout",
     "output_type": "stream",
     "text": [
      "<class 'int'>\n",
      "<class 'float'>\n",
      "<class 'str'>\n"
     ]
    }
   ],
   "source": [
    "a=1\n",
    "print(type(a))\n",
    "a=1.\n",
    "print(type(a))\n",
    "a='a'\n",
    "print(type(a))\n"
   ]
  },
  {
   "cell_type": "code",
   "execution_count": 7,
   "metadata": {},
   "outputs": [
    {
     "name": "stdout",
     "output_type": "stream",
     "text": [
      "python programlama eglecelidir\n",
      "python p\n",
      "programlama\n",
      "30\n",
      "programlama eglecelidir\n",
      "ama eglecelidir\n"
     ]
    }
   ],
   "source": [
    "a=\"python programlama eglecelidir\"\n",
    "print(a)\n",
    "print(a[0:8])\n",
    "print(a[7:18])\n",
    "print(len(a))\n",
    "print(a[7:len(a)])\n",
    "print(a[15:])\n"
   ]
  },
  {
   "cell_type": "code",
   "execution_count": 8,
   "metadata": {},
   "outputs": [
    {
     "name": "stdout",
     "output_type": "stream",
     "text": [
      "python programlama eglecelidir\n",
      "python pro\n",
      "gramlama eglecelidir\n",
      "stiringin 5. harfi:  o\n",
      "stiringin son harfi:  r\n",
      "stiringin son harfi:  r\n",
      "stiringin son 3 harfi:  di\n",
      "stiringin son 3 harfi:  dir\n"
     ]
    }
   ],
   "source": [
    "print(a[:])\n",
    "print(a[:10])\n",
    "print(a[10:])\n",
    "print(\"stiringin 5. harfi: \", a[4])\n",
    "print(\"stiringin son harfi: \", a[len(a)-1])\n",
    "print(\"stiringin son harfi: \", a[-1])\n",
    "print(\"stiringin son 3 harfi: \", a[-3:-1]) #hatalı\n",
    "print(\"stiringin son 3 harfi: \", a[-3:]) "
   ]
  },
  {
   "cell_type": "code",
   "execution_count": 9,
   "metadata": {},
   "outputs": [
    {
     "name": "stdout",
     "output_type": "stream",
     "text": [
      "python programlama eglecelidir\n",
      "python Programlama eglecelidir\n"
     ]
    }
   ],
   "source": [
    "a\n",
    "print(a)\n",
    "a=a[:7]+\"P\"+a[8:]\n",
    "print(a)"
   ]
  },
  {
   "cell_type": "code",
   "execution_count": 24,
   "metadata": {},
   "outputs": [
    {
     "name": "stdout",
     "output_type": "stream",
     "text": [
      "python Programlama eglecelidir\n",
      "7\n",
      "19\n",
      "Programlama \n"
     ]
    }
   ],
   "source": [
    "print(a)\n",
    "baslama=a.find(\"Prog\")\n",
    "bitis=a.find(\"egle\")\n",
    "print(baslama)\n",
    "print(bitis)\n",
    "print(a[baslama:bitis])"
   ]
  },
  {
   "cell_type": "code",
   "execution_count": 11,
   "metadata": {},
   "outputs": [
    {
     "name": "stdout",
     "output_type": "stream",
     "text": [
      "Help on built-in function acos in module math:\n",
      "\n",
      "acos(...)\n",
      "    acos(x)\n",
      "    \n",
      "    Return the arc cosine (measured in radians) of x.\n",
      "\n",
      "3.141592653589793\n",
      "7.0710678118654755\n"
     ]
    }
   ],
   "source": [
    "import math\n",
    "dir(math)\n",
    "help(math.acos)\n",
    "a=math.pi\n",
    "print(a)\n",
    "print(math.sqrt(50))"
   ]
  },
  {
   "cell_type": "code",
   "execution_count": 12,
   "metadata": {},
   "outputs": [
    {
     "name": "stdout",
     "output_type": "stream",
     "text": [
      "<class 'list'>\n",
      "[1, 2, 3, 4, 5, 6, 10]\n",
      "3\n",
      "[3, 4]\n",
      "10\n",
      "[1, 2, 3, 100, 5, 6, 10]\n",
      "[1, 2, 3, 100, 'python', 6, 10]\n"
     ]
    }
   ],
   "source": [
    "a=[1,2,3,4,5,6,10]\n",
    "print(type(a))\n",
    "print(a)\n",
    "print(a[2])\n",
    "print(a[2:4])\n",
    "print(a[-1])\n",
    "a[3]=100\n",
    "print(a)\n",
    "a[4]=\"python\"\n",
    "print(a)"
   ]
  },
  {
   "cell_type": "code",
   "execution_count": 66,
   "metadata": {},
   "outputs": [
    {
     "name": "stdout",
     "output_type": "stream",
     "text": [
      "[0, 1, 2, 3, 4]\n"
     ]
    },
    {
     "data": {
      "text/plain": [
       "[20, 18, 16, 14, 12, 10, 8, 6]"
      ]
     },
     "execution_count": 66,
     "metadata": {},
     "output_type": "execute_result"
    }
   ],
   "source": [
    "print(list(range(5)))\n",
    "list(range(3,10))\n",
    "list(range(3,20,3))\n",
    "list(range(20,5,-2))\n"
   ]
  },
  {
   "cell_type": "code",
   "execution_count": 70,
   "metadata": {},
   "outputs": [
    {
     "name": "stdout",
     "output_type": "stream",
     "text": [
      "0\n",
      "1\n",
      "2\n",
      "3\n",
      "4\n"
     ]
    }
   ],
   "source": [
    "for i in  range(5):\n",
    "    print(i)"
   ]
  },
  {
   "cell_type": "code",
   "execution_count": 73,
   "metadata": {},
   "outputs": [
    {
     "name": "stdout",
     "output_type": "stream",
     "text": [
      "*\n",
      "**\n",
      "***\n",
      "****\n",
      "*****\n"
     ]
    }
   ],
   "source": [
    "n=5\n",
    "for i in range(1,n+1):\n",
    "    print('*'*i)\n"
   ]
  },
  {
   "cell_type": "code",
   "execution_count": 77,
   "metadata": {},
   "outputs": [
    {
     "name": "stdout",
     "output_type": "stream",
     "text": [
      "*****\n",
      "****\n",
      "***\n",
      "**\n",
      "*\n"
     ]
    }
   ],
   "source": [
    "n=5\n",
    "for i in range(n,0,-1):\n",
    "    print('*'*i)\n"
   ]
  },
  {
   "cell_type": "code",
   "execution_count": 82,
   "metadata": {},
   "outputs": [
    {
     "name": "stdout",
     "output_type": "stream",
     "text": [
      "programlama\n",
      "devre\n",
      "elektronik\n",
      "diferansiyel\n"
     ]
    }
   ],
   "source": [
    "dersler = [\"programlama\", \"devre\", \"elektronik\", \"diferansiyel\"]\n",
    "\n",
    "for i in range(len(dersler)):\n",
    "    print(dersler[i])\n"
   ]
  },
  {
   "cell_type": "code",
   "execution_count": 84,
   "metadata": {},
   "outputs": [
    {
     "name": "stdout",
     "output_type": "stream",
     "text": [
      "programlama\n",
      "devre\n",
      "elektronik\n",
      "diferansiyel\n"
     ]
    }
   ],
   "source": [
    "for i in dersler:\n",
    "    print(i)"
   ]
  },
  {
   "cell_type": "code",
   "execution_count": 88,
   "metadata": {},
   "outputs": [
    {
     "name": "stdout",
     "output_type": "stream",
     "text": [
      "0\n",
      "1\n",
      "1\n",
      "2\n",
      "2\n",
      "3\n",
      "2\n"
     ]
    }
   ],
   "source": [
    "for i in range(3):\n",
    "    print(i)\n",
    "    print(i+1)\n",
    "print(i)"
   ]
  },
  {
   "cell_type": "code",
   "execution_count": 89,
   "metadata": {},
   "outputs": [
    {
     "name": "stdout",
     "output_type": "stream",
     "text": [
      "p-y-t-h-o-n- -p-r-o-g-r-a-m-l-a-m-a- -e-g-l-e-n-c-e-l-i-d-i-r-"
     ]
    }
   ],
   "source": [
    "a=\"python programlama eglencelidir\"\n",
    "for i in a:\n",
    "    print(i, end=\"-\")"
   ]
  }
 ],
 "metadata": {
  "kernelspec": {
   "display_name": "Python 3",
   "language": "python",
   "name": "python3"
  },
  "language_info": {
   "codemirror_mode": {
    "name": "ipython",
    "version": 3
   },
   "file_extension": ".py",
   "mimetype": "text/x-python",
   "name": "python",
   "nbconvert_exporter": "python",
   "pygments_lexer": "ipython3",
   "version": "3.6.5"
  }
 },
 "nbformat": 4,
 "nbformat_minor": 2
}
