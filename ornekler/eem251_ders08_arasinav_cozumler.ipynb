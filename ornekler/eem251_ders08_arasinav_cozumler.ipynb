{
 "cells": [
  {
   "cell_type": "markdown",
   "metadata": {},
   "source": [
    "$ax^2+bx+c=0$   \n",
    "Verilen **ikinci dereceden** bir denklemin kökleri:   \n",
    "$x_{1,2}=\\frac{-b \\pm \\sqrt{\\Delta}}{2a}$"
   ]
  },
  {
   "cell_type": "code",
   "execution_count": 33,
   "metadata": {},
   "outputs": [
    {
     "name": "stdout",
     "output_type": "stream",
     "text": [
      "[3, 5, 7, 9, 11, 13]\n",
      "[169, 121, 81, 49, 25, 9]\n"
     ]
    }
   ],
   "source": [
    "a=list(range(3,14,2))\n",
    "print(a)\n",
    "b=[i**2 for i in a[::-1]]\n",
    "print(b)"
   ]
  },
  {
   "cell_type": "code",
   "execution_count": 32,
   "metadata": {},
   "outputs": [
    {
     "name": "stdout",
     "output_type": "stream",
     "text": [
      "1 0 24 0 36 0 1 0 0 2 2 2 0 4 0 6 0 0 23 0 0 0 0 0 0 0 0 4 0 0 10 0 16 0 0 3 0 0 4 0 2 0 1 0 0 3 0 0 1 0 0 0 0 10 0 0 0 0 0 0 0 7 0 0 4 4 0 2 0 5 0 0 0 0 0 17 0 0 1 0 1 0 0 0 0 0 0 20 0 14 0 0 11 0 0 1 1 1 0 1 0 1 1 1 1 1 1 0 24 0 0 1 1 1 1 1 0 0 1 0 0 0 12 0 0 2 0 1 1 1 0 12 0 0 1 3 2 0 0 2 0 1 3 2 0 6 0 0 0 0 0 0 8 0 0 0 0 0 5 0 0 2 1 0 3 0 3 0 0 0 9 0 0 0 3 0 0 0 0 3 0 11 0 0 0 0 0 12 0 0 0 2 0 2 0 0 4 0 0 3 0 3 0 0 0 0 5 0 8 0 0 2 0 2 0 0 11 0 0 0 0 0 0 0 6 0 0 2 0 2 0 3 0 0 14 0 0 0 0 0 0 0 6 0 4 0 4 0 0 3 4 0 1 0 4 0 0 0 0 0 0 0 7 0 0 0 4 0 1 0 4 0 1 0 3 0 0 0 0 0 0 0 1 0 0 3 0 0 0 1 0 0 4 0 7 2 3 2 4 1 7 0 0 0 19 0 0 1 1 0 0 4 0 0 1 0 1 0 2 0 0 7 0 0 1 0 0 4 0 0 1 0 0 6 0 0 0 0 0 2 0 0 0 7 0 0 2 2 0 0 0 5 0 0 1 0 1 2 0 0 1 0 0 0 1 4 0 0 0 0 2 0 0 1 0 0 0 3 0 0 2 0 1 0 1 0 1 0 0 0 2 0 12 0 0 1 0 1 1 1 2 0 0 0 0 0 0 0 0 0 3 0 28 0 38 0 34 0 20 0 0 0 1 1 0 5 0 0 1 1 1 2 0 0 0 0 7 16 hepsi 805\n"
     ]
    }
   ],
   "source": [
    "f=open(\"a.txt\",\"r\")\n",
    "satirlar=f.readlines()\n",
    "satirlar[4]\n",
    "\n",
    "toplam=0\n",
    "\n",
    "for satir in satirlar:\n",
    "    satir_toplam=0\n",
    "    for karakter in satir:\n",
    "        if karakter == \"a\":\n",
    "            satir_toplam= satir_toplam+1\n",
    "    print(satir_toplam, end=\" \")\n",
    "    toplam=toplam+satir_toplam\n",
    "\n",
    "print(\"hepsi\", toplam)\n"
   ]
  },
  {
   "cell_type": "code",
   "execution_count": 35,
   "metadata": {},
   "outputs": [
    {
     "name": "stdout",
     "output_type": "stream",
     "text": [
      "pnljhfca\n"
     ]
    }
   ],
   "source": [
    "#birinci cozum\n",
    "a=\"abcdfghijklmnop\"\n",
    "print(a[::-2])"
   ]
  },
  {
   "cell_type": "code",
   "execution_count": 36,
   "metadata": {},
   "outputs": [
    {
     "name": "stdout",
     "output_type": "stream",
     "text": [
      "pnljhfca"
     ]
    }
   ],
   "source": [
    "#ikinci cozum\n",
    "a=\"abcdfghijklmnop\"\n",
    "\n",
    "for i in range(len(a)-1,-1,-2):\n",
    "    print(a[i], end=\"\")"
   ]
  },
  {
   "cell_type": "code",
   "execution_count": 37,
   "metadata": {},
   "outputs": [
    {
     "name": "stdout",
     "output_type": "stream",
     "text": [
      "[1, 4, 6, 4, 1]\n"
     ]
    }
   ],
   "source": [
    "p=[1,5,10,10,5,1]\n",
    "p_onceki=[1]\n",
    "for i in range(1,len(p)-1):\n",
    "    p_onceki.append(p[i]-p_onceki[i-1])\n",
    "print(p_onceki)\n"
   ]
  },
  {
   "cell_type": "code",
   "execution_count": null,
   "metadata": {},
   "outputs": [],
   "source": [
    "import os\n",
    "import re\n",
    "#print(os.getcwd())\n",
    "#os.chdir(\"./../resimler\")\n",
    "dosyalar=os.listdir(\"./../resimler\")\n",
    "\n",
    "regex=re.compile(r\"\\d\\d?[\\.\\-\\ ]\\d?3[\\.\\-\\ ]\\d\\d\\d?\\d?.jpg\")\n",
    "for dosya in dosyalar:\n",
    "    if regex.findall(dosya):\n",
    "        os.unlink(\"./../resimler/\"+dosya)\n",
    "        #os.unlink(\"./../resimler/%s\"%(dosya))\n"
   ]
  }
 ],
 "metadata": {
  "kernelspec": {
   "display_name": "Python 3",
   "language": "python",
   "name": "python3"
  },
  "language_info": {
   "codemirror_mode": {
    "name": "ipython",
    "version": 3
   },
   "file_extension": ".py",
   "mimetype": "text/x-python",
   "name": "python",
   "nbconvert_exporter": "python",
   "pygments_lexer": "ipython3",
   "version": "3.6.5"
  }
 },
 "nbformat": 4,
 "nbformat_minor": 2
}
