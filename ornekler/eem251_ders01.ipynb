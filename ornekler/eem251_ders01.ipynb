{
 "cells": [
  {
   "cell_type": "markdown",
   "metadata": {},
   "source": [
    "Ctrl+Enter hücreyi çalıştırır.\n",
    "\n",
    "Hücreyi çalıştırdıktan sonra tekrar Enter tuşuna basarsanız veya çift tıklarsanız programınızı düzenleyebilirsiniz.\n",
    "\n",
    "Shift+Enter Hücreyi çalıştırır alt satıra geçer."
   ]
  },
  {
   "cell_type": "markdown",
   "metadata": {},
   "source": [
    "Hüzre Markdown modunda iken notlarımızı alabiliriz.\n",
    "\n",
    "# Bu dersimizde Python programlama dilini göreceğiz\n",
    "## Daha kucuk başlık\n",
    "###### En kucuk başlık\n",
    "\n",
    "**kalın** *italik* ~~üzeri çizili~~ yazılar **_yazabiliriz_**.\n",
    "\n",
    "Matematik denklemleri LaTeX doküman düzenleme sisteminde olduğu gibi yazılabilir.\n",
    "\n",
    "$E_0 = mc^2$\n",
    "\n",
    "$E = \\frac{mc^2}{\\sqrt{1-\\frac{v^2}{c^2}}}$\n",
    "\n",
    "denklemlerde Yunan harfleri de kullanılabilir.\n",
    "$\\alpha^2 \\times \\sqrt{\\beta}\\times \\psi$\n",
    "\n",
    "\n",
    "Listeleme\n",
    "* birinci\n",
    "* ikinci\n",
    "  * iki a\n",
    "  * iki b\n",
    "    * iki a 1\n",
    "    \n",
    "    \n",
    "Alıntı için\n",
    "> 10 tür insan vardır, ikilik sistemi bilen ve bilmeyen.\n",
    "\n",
    "Başka sitelere link vermek için: [Ders ile ilgili dokümanlar](https://github.com/asenturk/eem251)\n",
    "\n",
    "\n"
   ]
  },
  {
   "cell_type": "markdown",
   "metadata": {},
   "source": [
    "#### Biraz da Python Programlama\n",
    " "
   ]
  },
  {
   "cell_type": "code",
   "execution_count": 6,
   "metadata": {},
   "outputs": [],
   "source": [
    "a=2"
   ]
  },
  {
   "cell_type": "code",
   "execution_count": 4,
   "metadata": {},
   "outputs": [
    {
     "data": {
      "text/plain": [
       "2"
      ]
     },
     "execution_count": 4,
     "metadata": {},
     "output_type": "execute_result"
    }
   ],
   "source": [
    "a"
   ]
  },
  {
   "cell_type": "code",
   "execution_count": 5,
   "metadata": {},
   "outputs": [],
   "source": [
    "b=5"
   ]
  },
  {
   "cell_type": "code",
   "execution_count": 5,
   "metadata": {},
   "outputs": [
    {
     "data": {
      "text/plain": [
       "7"
      ]
     },
     "execution_count": 5,
     "metadata": {},
     "output_type": "execute_result"
    }
   ],
   "source": [
    "a+b"
   ]
  },
  {
   "cell_type": "code",
   "execution_count": 7,
   "metadata": {},
   "outputs": [
    {
     "data": {
      "text/plain": [
       "-3"
      ]
     },
     "execution_count": 7,
     "metadata": {},
     "output_type": "execute_result"
    }
   ],
   "source": [
    "a-b"
   ]
  },
  {
   "cell_type": "markdown",
   "metadata": {},
   "source": [
    "#### Çok büyük tam sayılarla çalışabilirsiniz."
   ]
  },
  {
   "cell_type": "code",
   "execution_count": 9,
   "metadata": {},
   "outputs": [
    {
     "name": "stdout",
     "output_type": "stream",
     "text": [
      "10715086071862673209484250490600018105614048117055336074437503883703510511249361224931983788156958581275946729175531468251871452856923140435984577574698574803934567774824230985421074605062371141877954182153046474983581941267398767559165543946077062914571196477686542167660429831652624386837205668069376\n"
     ]
    }
   ],
   "source": [
    "a=2\n",
    "b=1000\n",
    "c=a**b\n",
    "print(c)"
   ]
  },
  {
   "cell_type": "code",
   "execution_count": 8,
   "metadata": {},
   "outputs": [
    {
     "name": "stdout",
     "output_type": "stream",
     "text": [
      "eem251 eem251 eem251 eem251 eem251 eem251 eem251 eem251 eem251 eem251 \n"
     ]
    }
   ],
   "source": [
    "x=\"eem251 \"\n",
    "\n",
    "print(10*x)"
   ]
  }
 ],
 "metadata": {
  "kernelspec": {
   "display_name": "Python 3",
   "language": "python",
   "name": "python3"
  },
  "language_info": {
   "codemirror_mode": {
    "name": "ipython",
    "version": 3
   },
   "file_extension": ".py",
   "mimetype": "text/x-python",
   "name": "python",
   "nbconvert_exporter": "python",
   "pygments_lexer": "ipython3",
   "version": "3.6.5"
  }
 },
 "nbformat": 4,
 "nbformat_minor": 2
}
