{
 "cells": [
  {
   "cell_type": "markdown",
   "metadata": {},
   "source": [
    "r: okuma modu  \n",
    "w: yazma modu  \n",
    "a: ekleme modu\n",
    "\n",
    "Ayrıca r+, w+, a+ modları da var. Bu modlar hem yazma hem okuma yapmayı sağlıyor.\n",
    "\n"
   ]
  },
  {
   "cell_type": "code",
   "execution_count": null,
   "metadata": {},
   "outputs": [],
   "source": [
    "dosya = open(\"a.txt\",\"r\")\n",
    "icerik =dosya.read()\n",
    "print(icerik[:100])\n",
    "dosya.seek(0)\n",
    "satirlar=dosya.readline()\n",
    "print(\"1. satir: \")\n",
    "print(satirlar)\n",
    "\n",
    "satirlar=dosya.readline()\n",
    "print(\"2. satir: \")\n",
    "print(satirlar)\n",
    "\n",
    "satirlar=dosya.readline()\n",
    "print(\"3. satir: \")\n",
    "print(satirlar)\n",
    "\n",
    "dosya.close()"
   ]
  },
  {
   "cell_type": "code",
   "execution_count": null,
   "metadata": {},
   "outputs": [],
   "source": [
    "dosya=open(\"b.txt\",\"w\")\n",
    "dosya.write(\"Birinci yazı\\n\")\n",
    "dosya.write(\"İkinci yazı\")\n",
    "dosya.writelines(\"deneme 3. yazı\\n\")\n",
    "dosya.writelines(\"deneme 4. yazı\\n\\n\")\n",
    "dosya.writelines([\"aaa\",\"bbb\"])\n",
    "dosya.close()"
   ]
  },
  {
   "cell_type": "code",
   "execution_count": null,
   "metadata": {},
   "outputs": [],
   "source": [
    "dosya=open(\"c.txt\",\"a\")\n",
    "dosya.write(\"aaaa\\n\")\n",
    "dosya.close()"
   ]
  },
  {
   "cell_type": "code",
   "execution_count": null,
   "metadata": {},
   "outputs": [],
   "source": [
    "dosya=open(\"d.txt\",\"w\")\n",
    "for i in range(100):\n",
    "    dosya.write(\"%3d\\t%5d\\t%8d\\n\"%(i,i*i,i**3))\n",
    "dosya.close()"
   ]
  },
  {
   "cell_type": "code",
   "execution_count": null,
   "metadata": {},
   "outputs": [],
   "source": [
    "#icerisinde Türkçe veya ingilizce olmayan karakterler olan dosyayı açmak için\n",
    "# encoding=\"utf-8\" ifadesi eklenir.\n",
    "dosya=open(\"text files/turkce liste sdu.txt\",\"r\", encoding=\"utf-8\")\n",
    "print(dosya.read())\n",
    "dosya.close()"
   ]
  },
  {
   "cell_type": "code",
   "execution_count": null,
   "metadata": {},
   "outputs": [],
   "source": [
    "a=\"   aaa\\n\\t\"\n",
    "a.strip()\n",
    "\n",
    "if \"\":\n",
    "    print(\"a\")"
   ]
  },
  {
   "cell_type": "code",
   "execution_count": null,
   "metadata": {},
   "outputs": [],
   "source": [
    "#boş olmayan satirlari satir numaralarıyla birlikte gösteren program\n",
    "dosya=open(\"a.txt\",\"r\")\n",
    "satirlar=dosya.readlines()\n",
    "for i in range(len(satirlar)):\n",
    "    if satirlar[i].strip():\n",
    "        print(\"satir: %d\\n%s\"%(i,satirlar[i]))\n",
    "dosya.close()"
   ]
  },
  {
   "cell_type": "code",
   "execution_count": null,
   "metadata": {},
   "outputs": [],
   "source": [
    "import os\n",
    "#farklı işletim sistemlerinde dizin ayracı farklıdır.\n",
    "#windowsta \\ linux,unizte / örneğin\n",
    "print(os.sep)\n",
    "\n",
    "print(\"d:\\\\a\\\\n\\\\a.txt\")\n",
    "print(r\"d:\\a\\n\\a.txt\")"
   ]
  },
  {
   "cell_type": "code",
   "execution_count": null,
   "metadata": {},
   "outputs": [],
   "source": [
    "#çalışma dizini\n",
    "os.getcwd()"
   ]
  },
  {
   "cell_type": "code",
   "execution_count": null,
   "metadata": {},
   "outputs": [],
   "source": [
    "#çalışma dizinini değiştir.\n",
    "os.chdir(\"d:\\\\\")"
   ]
  },
  {
   "cell_type": "code",
   "execution_count": null,
   "metadata": {},
   "outputs": [],
   "source": [
    "print(os.listdir())"
   ]
  },
  {
   "cell_type": "code",
   "execution_count": null,
   "metadata": {},
   "outputs": [],
   "source": [
    "os.getcwd()"
   ]
  },
  {
   "cell_type": "code",
   "execution_count": null,
   "metadata": {},
   "outputs": [],
   "source": [
    "print(os.listdir(\"./Python Jupyter Calismalar/File\"))"
   ]
  },
  {
   "cell_type": "code",
   "execution_count": null,
   "metadata": {},
   "outputs": [],
   "source": [
    "os.chdir(\"d:\\\\Python Jupyter Calismalar\\\\File\")"
   ]
  },
  {
   "cell_type": "code",
   "execution_count": null,
   "metadata": {},
   "outputs": [],
   "source": [
    "os.getcwd()"
   ]
  },
  {
   "cell_type": "code",
   "execution_count": null,
   "metadata": {},
   "outputs": [],
   "source": [
    "print(os.listdir(\"./../../\"))\n",
    "print(os.listdir(\"./../../Drive\"))\n"
   ]
  },
  {
   "cell_type": "code",
   "execution_count": null,
   "metadata": {},
   "outputs": [],
   "source": [
    "os.getcwd()\n",
    "dosya_dizin=os.listdir()\n",
    "print(dosya_dizin[1])\n",
    "os.path.isfile(dosya_dizin[1])\n",
    "os.path.isdir(dosya_dizin[1])"
   ]
  },
  {
   "cell_type": "code",
   "execution_count": null,
   "metadata": {},
   "outputs": [],
   "source": [
    "print(dosya_dizin[1])\n",
    "os.path.getsize(dosya_dizin[1])"
   ]
  },
  {
   "cell_type": "code",
   "execution_count": null,
   "metadata": {},
   "outputs": [],
   "source": [
    "os.chdir(\"./../\")"
   ]
  },
  {
   "cell_type": "code",
   "execution_count": null,
   "metadata": {},
   "outputs": [],
   "source": [
    "os.getcwd()"
   ]
  },
  {
   "cell_type": "code",
   "execution_count": null,
   "metadata": {},
   "outputs": [],
   "source": [
    "os.chdir(\"./File/\")"
   ]
  },
  {
   "cell_type": "code",
   "execution_count": null,
   "metadata": {},
   "outputs": [],
   "source": [
    "os.getcwd()"
   ]
  },
  {
   "cell_type": "code",
   "execution_count": null,
   "metadata": {},
   "outputs": [],
   "source": [
    "f=os.listdir()\n",
    "print(f)\n",
    "toplam_boyut=0\n",
    "for dosya_klasor in f:\n",
    "    if os.path.isfile(dosya_klasor):\n",
    "        dosya_boyutu=os.path.getsize(dosya_klasor)\n",
    "        toplam_boyut+=dosya_boyutu\n",
    "\n",
    "dizin=os.getcwd()        \n",
    "print(dizin,\" klasöründeki dosyaların toplam boyutu:\\n\"\n",
    "      ,toplam_boyut, \"byte dır\")\n",
    "\n"
   ]
  },
  {
   "cell_type": "code",
   "execution_count": null,
   "metadata": {},
   "outputs": [],
   "source": [
    "import os\n",
    "os.getcwd()\n",
    "os.unlink(\"d.txt\")"
   ]
  },
  {
   "cell_type": "code",
   "execution_count": null,
   "metadata": {},
   "outputs": [],
   "source": [
    "os.rmdir(\"aa\")"
   ]
  },
  {
   "cell_type": "code",
   "execution_count": null,
   "metadata": {},
   "outputs": [],
   "source": [
    "#rmdir fonksiyonu eğer klasör boş ise çalışır.\n",
    "os.rmdir(\"bb\")"
   ]
  },
  {
   "cell_type": "code",
   "execution_count": null,
   "metadata": {},
   "outputs": [],
   "source": [
    "import shutil #shell utilities\n",
    "\n",
    "shutil.rmtree(\"bb\")"
   ]
  },
  {
   "cell_type": "code",
   "execution_count": null,
   "metadata": {},
   "outputs": [],
   "source": [
    "os.listdir()"
   ]
  },
  {
   "cell_type": "code",
   "execution_count": null,
   "metadata": {},
   "outputs": [],
   "source": [
    "import os"
   ]
  },
  {
   "cell_type": "code",
   "execution_count": null,
   "metadata": {},
   "outputs": [],
   "source": [
    "from os import listdir\n",
    "\n",
    "listdir(\".\")"
   ]
  },
  {
   "cell_type": "code",
   "execution_count": null,
   "metadata": {},
   "outputs": [],
   "source": [
    "import shutil\n",
    "\n",
    "shutil.copy(\"b.txt\",\"bb.txt\")"
   ]
  },
  {
   "cell_type": "code",
   "execution_count": null,
   "metadata": {},
   "outputs": [],
   "source": [
    "#dosya tasima\n",
    "shutil.move(\"b.txt\",\"dosyalar/\")"
   ]
  },
  {
   "cell_type": "code",
   "execution_count": null,
   "metadata": {},
   "outputs": [],
   "source": [
    "#dosya tasirken ismini degistirme\n",
    "shutil.move(\"bb.txt\",\"dosyalar/ba.html\")"
   ]
  },
  {
   "cell_type": "code",
   "execution_count": null,
   "metadata": {},
   "outputs": [],
   "source": [
    "#dosya ismini degistirme\n",
    "shutil.move(\"c.txt\",\"c_new.txt\")"
   ]
  }
 ],
 "metadata": {
  "kernelspec": {
   "display_name": "Python 3",
   "language": "python",
   "name": "python3"
  },
  "language_info": {
   "codemirror_mode": {
    "name": "ipython",
    "version": 3
   },
   "file_extension": ".py",
   "mimetype": "text/x-python",
   "name": "python",
   "nbconvert_exporter": "python",
   "pygments_lexer": "ipython3",
   "version": "3.6.5"
  }
 },
 "nbformat": 4,
 "nbformat_minor": 2
}
