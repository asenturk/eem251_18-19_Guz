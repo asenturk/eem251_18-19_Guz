{
 "cells": [
  {
   "cell_type": "code",
   "execution_count": 3,
   "metadata": {},
   "outputs": [
    {
     "name": "stdout",
     "output_type": "stream",
     "text": [
      "[6, 13, 1, 14, 13, 4, 12, 13, 13, 13]\n"
     ]
    }
   ],
   "source": [
    "import random\n",
    "a=[]\n",
    "for i in range(10):\n",
    "    a.append(random.randint(1,15))\n",
    "print(a)\n",
    "\n"
   ]
  },
  {
   "cell_type": "markdown",
   "metadata": {},
   "source": [
    "Bir dizideki tekrarsız elemanların bulma"
   ]
  },
  {
   "cell_type": "code",
   "execution_count": 8,
   "metadata": {},
   "outputs": [
    {
     "name": "stdout",
     "output_type": "stream",
     "text": [
      "[6, 13, 1, 14, 4, 12]\n"
     ]
    }
   ],
   "source": [
    "b=[]\n",
    "b.append(a[0])\n",
    "for i in range(1,len(a)):\n",
    "    if( not (a[i] in b) ):\n",
    "        b.append(a[i])\n",
    "        \n",
    "print(b)"
   ]
  },
  {
   "cell_type": "markdown",
   "metadata": {},
   "source": [
    "2. çözüm"
   ]
  },
  {
   "cell_type": "code",
   "execution_count": 12,
   "metadata": {},
   "outputs": [
    {
     "name": "stdout",
     "output_type": "stream",
     "text": [
      "False\n"
     ]
    }
   ],
   "source": [
    "def in_list(list_a, x):\n",
    "    ret_val=False\n",
    "    for i in list_a:\n",
    "        if(x==i):\n",
    "            ret_val=True\n",
    "            break\n",
    "    return ret_val\n",
    "print(in_list(a,20))"
   ]
  },
  {
   "cell_type": "code",
   "execution_count": 14,
   "metadata": {},
   "outputs": [
    {
     "name": "stdout",
     "output_type": "stream",
     "text": [
      "[6, 13, 1, 14, 4, 12]\n"
     ]
    }
   ],
   "source": [
    "b=[]\n",
    "b.append(a[0])\n",
    "for i in range(1,len(a)):\n",
    "    if(not in_list(b,a[i]) ):\n",
    "        b.append(a[i])\n",
    "        \n",
    "print(b)"
   ]
  },
  {
   "cell_type": "markdown",
   "metadata": {},
   "source": [
    "3. harften 11. harfe 2 şer atlayarak"
   ]
  },
  {
   "cell_type": "code",
   "execution_count": 1,
   "metadata": {},
   "outputs": [
    {
     "name": "stdout",
     "output_type": "stream",
     "text": [
      "galm\n"
     ]
    }
   ],
   "source": [
    "str_a=\"Programlama bilgisayarda yazarak öğrenilir\"\n",
    "print(str_a[3:11:2])"
   ]
  },
  {
   "cell_type": "markdown",
   "metadata": {},
   "source": [
    "Çift sıradaki harfler"
   ]
  },
  {
   "cell_type": "code",
   "execution_count": 4,
   "metadata": {},
   "outputs": [
    {
     "name": "stdout",
     "output_type": "stream",
     "text": [
      "Pormaabliaad aaa ğeii\n"
     ]
    }
   ],
   "source": [
    "print(str_a[::2])"
   ]
  },
  {
   "cell_type": "code",
   "execution_count": 5,
   "metadata": {},
   "outputs": [
    {
     "name": "stdout",
     "output_type": "stream",
     "text": [
      "Programlama bilgisayarda yazarak öğrenilir\n",
      "rilinerğö karazay adrayasiglib amalmargorP\n"
     ]
    }
   ],
   "source": [
    "print(str_a)\n",
    "print(str_a[-1::-1])"
   ]
  },
  {
   "cell_type": "code",
   "execution_count": 7,
   "metadata": {},
   "outputs": [
    {
     "name": "stdout",
     "output_type": "stream",
     "text": [
      "Programlama \"bilgisayarda\" yazarak öğrenilir\n"
     ]
    }
   ],
   "source": [
    "str_a=\"Programlama \\\"bilgisayarda\\\" yazarak öğrenilir\"\n",
    "print(str_a)"
   ]
  },
  {
   "cell_type": "code",
   "execution_count": 37,
   "metadata": {},
   "outputs": [
    {
     "name": "stdout",
     "output_type": "stream",
     "text": [
      "buraya bir \"yazı\" yazalım\n",
      "buraya bir 'yazı' yazalım\n",
      "buraya bir \t yazalım\n",
      "buraya bir \\nyazalım\n"
     ]
    }
   ],
   "source": [
    "str_a='buraya bir \"yazı\" yazalım'\n",
    "print(str_a)\n",
    "\n",
    "str_a=\"buraya bir 'yazı' yazalım\"\n",
    "print(str_a)\n",
    "\n",
    "str_a=\"buraya bir \\t yazalım\"\n",
    "print(str_a)\n",
    "\n",
    "str_a=\"buraya bir \\\\nyazalım\"\n",
    "print(str_a)"
   ]
  },
  {
   "cell_type": "markdown",
   "metadata": {},
   "source": [
    "string içerisinde kullanılabilecek 4 özel amaçlı semboller:\n",
    "\n",
    "* \\'\n",
    "* \\\"\n",
    "* \\n\n",
    "* \\t\n",
    "* \\\\"
   ]
  },
  {
   "cell_type": "code",
   "execution_count": 39,
   "metadata": {},
   "outputs": [
    {
     "name": "stdout",
     "output_type": "stream",
     "text": [
      "bu \n",
      "         uzun bir \n",
      "str\n",
      "\n",
      "\taaaaa\n"
     ]
    }
   ],
   "source": [
    "multiline_str=\"\"\"bu \n",
    "         uzun bir \n",
    "str\\n\n",
    "\\taaaaa\"\"\"\n",
    "print(multiline_str)"
   ]
  },
  {
   "cell_type": "code",
   "execution_count": 40,
   "metadata": {},
   "outputs": [],
   "source": [
    "stra=\"\"\"Lorem ipsum dolor sit amet, consectetur adipiscing elit. Cras ullamcorper non nisl vitae tincidunt. Vivamus imperdiet justo nec volutpat cursus. Sed sollicitudin velit nunc, et dapibus odio pharetra a. Suspendisse tristique placerat dui vel accumsan. Sed consectetur ex non enim aliquet aliquam. Praesent at nunc dolor. Nulla sit amet rhoncus enim. Maecenas arcu mauris, pellentesque ut placerat sit amet, sagittis et sem. Mauris nec fermentum enim, at ornare lacus.\n",
    "\n",
    "Cras ornare facilisis dolor vehicula gravida. Phasellus bibendum et mauris vitae ullamcorper. Duis tincidunt velit leo, in lobortis elit euismod ut. Aenean aliquam tempus diam quis porttitor. Vivamus bibendum velit dui, at tempus est eleifend eget. Vivamus pulvinar eros nisi, commodo semper elit vehicula non. Integer nec diam urna. Etiam congue quam magna, vel vestibulum dolor iaculis nec. Aliquam neque lectus, accumsan vitae neque id, egestas ultrices magna. Morbi hendrerit purus ut nisi tempor efficitur sed id ipsum. In eu dignissim mauris, quis venenatis dolor. Aliquam erat volutpat. Integer lacinia elit ipsum, a luctus mauris tristique et.\n",
    "\n",
    "Aenean finibus nec lacus in fermentum. In eget eros ac nibh sagittis dapibus. Ut at ultrices tortor. Vivamus faucibus sollicitudin luctus. Curabitur venenatis accumsan sapien. Interdum et malesuada fames ac ante ipsum primis in faucibus. Donec vestibulum turpis et euismod aliquam. Morbi eget massa in neque tincidunt varius at eget ipsum. Vestibulum porttitor iaculis iaculis. Curabitur diam mi, consectetur id ultricies sit amet, lobortis a tellus. Nulla facilisi.\n",
    "\n",
    "Praesent in enim eu odio imperdiet condimentum eu vitae turpis. Etiam sed pulvinar ligula. In eu massa quis nunc fermentum facilisis condimentum in nulla. Vivamus euismod magna nunc, sed posuere arcu pretium in. Fusce hendrerit neque ac tincidunt vehicula. Morbi consectetur neque ut nulla dignissim, a gravida nunc luctus. Donec sit amet velit eget eros luctus elementum. Nullam ac velit congue, ultricies sapien vel, interdum tortor.\n",
    "\n",
    "Maecenas lorem sapien, congue facilisis euismod non, convallis vel turpis. Duis sagittis nulla eu nibh volutpat mattis. Nullam semper lectus eget mi sodales, rutrum tristique ante tincidunt. Nullam a accumsan turpis. Aliquam in ultricies erat. Donec quam ipsum, cursus sit amet rutrum egestas, auctor iaculis quam. Donec non sagittis eros. Mauris felis turpis, elementum vehicula rhoncus ut, malesuada quis est. Morbi fermentum mauris ex, ut euismod eros congue vel. Sed commodo diam eros, ut tincidunt elit pulvinar et. Pellentesque maximus purus quis suscipit porta. Mauris diam leo, vulputate id est a, venenatis eleifend nulla. Suspendisse potenti.\n",
    "\n",
    "Curabitur euismod libero id magna venenatis vulputate. Nam felis est, bibendum id libero eu, efficitur blandit nibh. Aliquam hendrerit imperdiet lacus, eu tempor diam. Quisque gravida euismod ante a tincidunt. Morbi id lectus a mi euismod congue. Morbi non eleifend nulla. Integer mi urna, euismod eu metus vitae, pretium dictum lorem. Sed pulvinar ipsum mi, malesuada eleifend velit efficitur eget. In quam urna, convallis vel leo mollis, iaculis consectetur tortor. Nunc finibus, augue id venenatis placerat, lorem turpis fringilla felis, at rutrum dui magna nec est. Etiam cursus purus at sapien accumsan ultrices. Donec gravida ligula commodo odio fermentum fringilla. Mauris eleifend blandit nibh, ac consequat nunc pulvinar tempus. \"\"\""
   ]
  },
  {
   "cell_type": "code",
   "execution_count": 55,
   "metadata": {},
   "outputs": [
    {
     "name": "stdout",
     "output_type": "stream",
     "text": [
      "bosluk dışındaki karakter sayısı 2918\n"
     ]
    }
   ],
   "source": [
    "len(stra)\n",
    "harf_sayisi=0 #bosluk haricindeki karakter sayısı\n",
    "for i in stra:\n",
    "    if not i== \" \":\n",
    "        harf_sayisi+=1\n",
    "print(\"bosluk dışındaki karakter sayısı\", karakter_sayisi)\n",
    "bosluk_sayisi=len(stra)-karakter_sayisi"
   ]
  },
  {
   "cell_type": "code",
   "execution_count": 54,
   "metadata": {},
   "outputs": [
    {
     "name": "stdout",
     "output_type": "stream",
     "text": [
      "<class 'list'>\n"
     ]
    },
    {
     "data": {
      "text/plain": [
       "501"
      ]
     },
     "execution_count": 54,
     "metadata": {},
     "output_type": "execute_result"
    }
   ],
   "source": [
    "words=stra.split(\" \")\n",
    "#print(words)\n",
    "print(type(words))\n",
    "len(words)"
   ]
  },
  {
   "cell_type": "code",
   "execution_count": 58,
   "metadata": {},
   "outputs": [
    {
     "data": {
      "text/plain": [
       "5.824351297405189"
      ]
     },
     "execution_count": 58,
     "metadata": {},
     "output_type": "execute_result"
    }
   ],
   "source": [
    "#ortalama kelime uzunlugu\n",
    "(len(stra)-bosluk_sayisi)/len(words)"
   ]
  },
  {
   "cell_type": "code",
   "execution_count": 12,
   "metadata": {},
   "outputs": [
    {
     "name": "stdout",
     "output_type": "stream",
     "text": [
      "['Progr', 'ml', 'm', ' bilgis', 'y', 'rd', ' y', 'z', 'r', 'k öğrenilir']\n"
     ]
    }
   ],
   "source": [
    "str_a=\"Programlama bilgisayarda yazarak öğrenilir\"\n",
    "list_a=str_a.split(\"a\")\n",
    "print(list_a)"
   ]
  },
  {
   "cell_type": "code",
   "execution_count": 13,
   "metadata": {},
   "outputs": [
    {
     "data": {
      "text/plain": [
       "'Progr-ml-m- bilgis-y-rd- y-z-r-k öğrenilir'"
      ]
     },
     "execution_count": 13,
     "metadata": {},
     "output_type": "execute_result"
    }
   ],
   "source": [
    "\"-\".join(list_a)"
   ]
  },
  {
   "cell_type": "code",
   "execution_count": 16,
   "metadata": {},
   "outputs": [
    {
     "name": "stdout",
     "output_type": "stream",
     "text": [
      "Programlama bilgisayarda yazarak öğrenilir\n"
     ]
    }
   ],
   "source": [
    "a=\"bilgisayarda\"\n",
    "str_a=\"Programlama %s yazarak öğrenilir\" %(a)\n",
    "print(str_a)\n",
    "\n"
   ]
  },
  {
   "cell_type": "code",
   "execution_count": 72,
   "metadata": {},
   "outputs": [
    {
     "name": "stdout",
     "output_type": "stream",
     "text": [
      "                   1\n",
      "                  10\n",
      "                 100\n",
      "                1000\n",
      "               10000\n",
      "              100000\n",
      "             1000000\n",
      "            10000000\n",
      "           100000000\n",
      "          1000000000\n"
     ]
    }
   ],
   "source": [
    "for i in range(10):\n",
    "    print(\"%20d\"%(10**i))"
   ]
  },
  {
   "cell_type": "code",
   "execution_count": 77,
   "metadata": {},
   "outputs": [
    {
     "name": "stdout",
     "output_type": "stream",
     "text": [
      "buraya        bir yazı yazalım\n",
      "buraya bir        yazı yazalım\n"
     ]
    }
   ],
   "source": [
    "kelime=\"bir\"\n",
    "a=\"buraya %10s yazı yazalım\" % (kelime)\n",
    "print(a)\n",
    "a=\"buraya %-10s yazı yazalım\" % (kelime)\n",
    "print(a)"
   ]
  },
  {
   "cell_type": "code",
   "execution_count": 87,
   "metadata": {},
   "outputs": [],
   "source": [
    "import pyperclip\n",
    "pyperclip.copy('bbbbbb')"
   ]
  },
  {
   "cell_type": "code",
   "execution_count": 88,
   "metadata": {},
   "outputs": [
    {
     "data": {
      "text/plain": [
       "'bbbbbb'"
      ]
     },
     "execution_count": 88,
     "metadata": {},
     "output_type": "execute_result"
    }
   ],
   "source": [
    "pyperclip.paste()"
   ]
  },
  {
   "cell_type": "code",
   "execution_count": 93,
   "metadata": {},
   "outputs": [
    {
     "name": "stdout",
     "output_type": "stream",
     "text": [
      "['k', 'e', 'l', 'i', 'm', 'e']\n"
     ]
    }
   ],
   "source": [
    "lst=[]\n",
    "a=\"kelime\"\n",
    "for i in a:\n",
    "    lst.append(i)\n",
    "print(lst)"
   ]
  },
  {
   "cell_type": "code",
   "execution_count": 97,
   "metadata": {},
   "outputs": [
    {
     "name": "stdout",
     "output_type": "stream",
     "text": [
      "['k', 'e', 'l', 'i', 'm', 'e']\n"
     ]
    }
   ],
   "source": [
    "lst=[i for i in a]\n",
    "print(lst)"
   ]
  },
  {
   "cell_type": "code",
   "execution_count": 100,
   "metadata": {},
   "outputs": [
    {
     "name": "stdout",
     "output_type": "stream",
     "text": [
      "[0, 1, 4, 9, 16, 25, 36, 49, 64, 81]\n"
     ]
    }
   ],
   "source": [
    "a=[i**2 for i in range(10)]\n",
    "print(a)"
   ]
  },
  {
   "cell_type": "code",
   "execution_count": 104,
   "metadata": {},
   "outputs": [
    {
     "name": "stdout",
     "output_type": "stream",
     "text": [
      "[0, 9, 36, 81, 144, 225, 324]\n"
     ]
    }
   ],
   "source": [
    "a=[i**2 for i in range(20) if i%3==0]\n",
    "print(a)"
   ]
  },
  {
   "cell_type": "code",
   "execution_count": 105,
   "metadata": {},
   "outputs": [
    {
     "name": "stdout",
     "output_type": "stream",
     "text": [
      "[0, 1, 16, 81, 256, 625, 1296, 2401, 4096, 6561]\n"
     ]
    }
   ],
   "source": [
    "a=[i**2 for i in [i**2 for i in range(10)]]\n",
    "print(a)"
   ]
  },
  {
   "cell_type": "code",
   "execution_count": 117,
   "metadata": {},
   "outputs": [
    {
     "name": "stdout",
     "output_type": "stream",
     "text": [
      "10\n"
     ]
    }
   ],
   "source": [
    "a=5\n",
    "def f1(a1):\n",
    "    global a\n",
    "    a=10\n",
    "    return a\n",
    "f1(a)\n",
    "print(a)"
   ]
  },
  {
   "cell_type": "code",
   "execution_count": 126,
   "metadata": {},
   "outputs": [
    {
     "name": "stdout",
     "output_type": "stream",
     "text": [
      "6\n",
      "3\n",
      "1\n",
      "12\n"
     ]
    }
   ],
   "source": [
    "def topla(a=0,b=0,c=0):\n",
    "    return a+b+c\n",
    "\n",
    "print(topla(1,2,3))\n",
    "print(topla(1,2))\n",
    "print(topla(1))\n",
    "print(topla(c=10,b=2))"
   ]
  },
  {
   "cell_type": "code",
   "execution_count": 131,
   "metadata": {},
   "outputs": [
    {
     "name": "stdout",
     "output_type": "stream",
     "text": [
      "2\n"
     ]
    }
   ],
   "source": [
    "def f1(*args):\n",
    "    return args[1]\n",
    "print(f1(1,2,3))"
   ]
  },
  {
   "cell_type": "code",
   "execution_count": 133,
   "metadata": {},
   "outputs": [
    {
     "data": {
      "text/plain": [
       "18"
      ]
     },
     "execution_count": 133,
     "metadata": {},
     "output_type": "execute_result"
    }
   ],
   "source": [
    "def topla(*args):\n",
    "    toplam=0\n",
    "    for i in args:\n",
    "        toplam+=i\n",
    "    return toplam\n",
    "\n",
    "topla(1,2,6,9)"
   ]
  },
  {
   "cell_type": "code",
   "execution_count": 137,
   "metadata": {},
   "outputs": [
    {
     "data": {
      "text/plain": [
       "[(0, 'k'), (1, 'e'), (2, 'l'), (3, 'i'), (4, 'm'), (5, 'e')]"
      ]
     },
     "execution_count": 137,
     "metadata": {},
     "output_type": "execute_result"
    }
   ],
   "source": [
    "a=\"kelime\"\n",
    "list(enumerate(a))"
   ]
  },
  {
   "cell_type": "code",
   "execution_count": 142,
   "metadata": {},
   "outputs": [
    {
     "name": "stdout",
     "output_type": "stream",
     "text": [
      "[100, 85, 70, 55, 40, 25, 10]\n",
      "[(0, 100), (1, 85), (2, 70), (3, 55), (4, 40), (5, 25), (6, 10)]\n"
     ]
    }
   ],
   "source": [
    "a=list(range(100,0,-15))\n",
    "print(a)\n",
    "print(list(enumerate(a)))\n"
   ]
  },
  {
   "cell_type": "code",
   "execution_count": 17,
   "metadata": {},
   "outputs": [
    {
     "name": "stdout",
     "output_type": "stream",
     "text": [
      "[(5, 'k'), (8, 'e'), (11, 'l'), (14, 'i'), (17, 'm')]\n"
     ]
    }
   ],
   "source": [
    "a=range(5,20,3)\n",
    "b=\"kelime\"\n",
    "print(list(zip(a,b)))"
   ]
  }
 ],
 "metadata": {
  "kernelspec": {
   "display_name": "Python 3",
   "language": "python",
   "name": "python3"
  },
  "language_info": {
   "codemirror_mode": {
    "name": "ipython",
    "version": 3
   },
   "file_extension": ".py",
   "mimetype": "text/x-python",
   "name": "python",
   "nbconvert_exporter": "python",
   "pygments_lexer": "ipython3",
   "version": "3.6.5"
  }
 },
 "nbformat": 4,
 "nbformat_minor": 2
}
