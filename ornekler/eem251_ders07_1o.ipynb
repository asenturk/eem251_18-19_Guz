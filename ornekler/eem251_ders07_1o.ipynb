{
 "cells": [
  {
   "cell_type": "markdown",
   "metadata": {},
   "source": [
    "**Ders esnasinda sorulan sorulara verilen cevaplar**"
   ]
  },
  {
   "cell_type": "code",
   "execution_count": 3,
   "metadata": {},
   "outputs": [
    {
     "data": {
      "text/plain": [
       "'D:\\\\Python Jupyter Calismalar\\\\File'"
      ]
     },
     "execution_count": 3,
     "metadata": {},
     "output_type": "execute_result"
    }
   ],
   "source": [
    "import os\n",
    "os.getcwd()"
   ]
  },
  {
   "cell_type": "code",
   "execution_count": 8,
   "metadata": {},
   "outputs": [
    {
     "name": "stdout",
     "output_type": "stream",
     "text": [
      "1\n",
      "2\n",
      "3\n",
      "4\n",
      "5\n",
      "\n",
      "6\n",
      "7\n",
      "8\n",
      "\n",
      "9\n",
      "0\n"
     ]
    }
   ],
   "source": [
    "#tam yol kullanilarak acilan dosya\n",
    "#masaustundeki a.txt dosyasini aciyor.\n",
    "dosya = open(r\"C:\\Users\\asntr\\Desktop\\a.txt\", \"r\")\n",
    "icerik=dosya.read()\n",
    "print(icerik)\n",
    "dosya.close()"
   ]
  },
  {
   "cell_type": "code",
   "execution_count": 12,
   "metadata": {},
   "outputs": [
    {
     "name": "stdout",
     "output_type": "stream",
     "text": [
      "7\n"
     ]
    }
   ],
   "source": [
    "def topla(a,b,c=0):\n",
    "    return a+b+c\n",
    "print(topla(3,4))"
   ]
  },
  {
   "cell_type": "code",
   "execution_count": 16,
   "metadata": {},
   "outputs": [
    {
     "data": {
      "text/plain": [
       "29"
      ]
     },
     "execution_count": 16,
     "metadata": {},
     "output_type": "execute_result"
    }
   ],
   "source": [
    "def topla(*args):\n",
    "    toplam=0\n",
    "    #print(args)\n",
    "    for x in args:\n",
    "        toplam+=x\n",
    "    return toplam\n",
    "\n",
    "topla(3,6,1,2,8,9)\n",
    "    \n",
    "    "
   ]
  },
  {
   "cell_type": "code",
   "execution_count": 23,
   "metadata": {},
   "outputs": [
    {
     "name": "stdout",
     "output_type": "stream",
     "text": [
      "      1000\n",
      "    857375\n",
      "   5832000\n",
      "  18609625\n",
      "  42875000\n",
      "  82312875\n",
      " 140608000\n",
      " 221445125\n",
      " 328509000\n",
      " 465484375\n",
      " 636056000\n",
      " 843908625\n"
     ]
    }
   ],
   "source": [
    "for i in range(10,1000,85):\n",
    "    print(\"%10d\"%(i*i*i))"
   ]
  },
  {
   "cell_type": "code",
   "execution_count": 25,
   "metadata": {},
   "outputs": [
    {
     "data": {
      "text/plain": [
       "1331"
      ]
     },
     "execution_count": 25,
     "metadata": {},
     "output_type": "execute_result"
    }
   ],
   "source": [
    "121*11"
   ]
  },
  {
   "cell_type": "code",
   "execution_count": 37,
   "metadata": {},
   "outputs": [
    {
     "name": "stdout",
     "output_type": "stream",
     "text": [
      "1. sayiyi giriniz: 3\n",
      "2. sayiyi giriniz: 5\n",
      "3. sayiyi giriniz: 1\n",
      "4. sayiyi giriniz: 2\n",
      "5. sayiyi giriniz: 5\n",
      "sayilarin toplami: 16\n"
     ]
    }
   ],
   "source": [
    "toplam=0\n",
    "for i in range(5):\n",
    "    sayi=input(\"%d. sayiyi giriniz: \"%(i+1))\n",
    "    toplam= toplam + int(sayi)\n",
    "print(\"sayilarin toplami:\", toplam)"
   ]
  },
  {
   "cell_type": "markdown",
   "metadata": {},
   "source": [
    "**Bu kisimdan itibaren yeni konuya giriş için örnekler verilmektedir.**   \n",
    "Bununla birlikte sadece yazılan programlar önceki konulara örnek olarak da düşünülebilir."
   ]
  },
  {
   "cell_type": "code",
   "execution_count": 2,
   "metadata": {},
   "outputs": [
    {
     "name": "stdout",
     "output_type": "stream",
     "text": [
      "[1, 2, 3, 4, 5, 6, 7, 8, 9, 10]\n"
     ]
    }
   ],
   "source": [
    "a=[1, 2, 3, 4, 5, 6, 7, 8, 9, 10]\n",
    "print(a)"
   ]
  },
  {
   "cell_type": "code",
   "execution_count": 3,
   "metadata": {},
   "outputs": [
    {
     "name": "stdout",
     "output_type": "stream",
     "text": [
      "1 - 2 - 3 - 4 - 5 - 6 - 7 - 8 - 9 - 10 "
     ]
    }
   ],
   "source": [
    "for i in range(len(a)):\n",
    "    print(a[i],end=\" \")\n",
    "    if i<(len(a)-1):\n",
    "        print(\"- \", end=\"\") "
   ]
  },
  {
   "cell_type": "code",
   "execution_count": 4,
   "metadata": {},
   "outputs": [
    {
     "name": "stdout",
     "output_type": "stream",
     "text": [
      "[1, 4, 9, 16, 25, 36, 49, 64, 81, 100]\n"
     ]
    }
   ],
   "source": [
    "a_kare=[]\n",
    "for i in a:\n",
    "    a_kare.append(i**2)\n",
    "print(a_kare)"
   ]
  },
  {
   "cell_type": "code",
   "execution_count": 6,
   "metadata": {},
   "outputs": [
    {
     "name": "stdout",
     "output_type": "stream",
     "text": [
      "[1, 4, 9, 16, 25, 36, 49, 64, 81, 100]\n"
     ]
    }
   ],
   "source": [
    "## bir onceki ornegi bu şekilde de yazabiliriz.\n",
    "y=[i*i for i in a]\n",
    "print(y)"
   ]
  },
  {
   "cell_type": "code",
   "execution_count": 8,
   "metadata": {},
   "outputs": [
    {
     "data": {
      "image/png": "[encoded data removed]",
      "text/plain": [
       "<Figure size 432x288 with 1 Axes>"
      ]
     },
     "metadata": {},
     "output_type": "display_data"
    }
   ],
   "source": [
    "import matplotlib.pyplot as plt\n",
    "plt.plot(a,a_kare)\n",
    "plt.show()"
   ]
  },
  {
   "cell_type": "markdown",
   "metadata": {},
   "source": [
    "0'dan 10'a kadar 0.1 artan sayılardan oluşan listeyi oluşturunuz."
   ]
  },
  {
   "cell_type": "code",
   "execution_count": 9,
   "metadata": {},
   "outputs": [
    {
     "name": "stdout",
     "output_type": "stream",
     "text": [
      "[0.0, 0.1, 0.2, 0.3, 0.4, 0.5, 0.6, 0.7, 0.8, 0.9, 1.0, 1.1, 1.2, 1.3, 1.4, 1.5, 1.6, 1.7, 1.8, 1.9, 2.0, 2.1, 2.2, 2.3, 2.4, 2.5, 2.6, 2.7, 2.8, 2.9, 3.0, 3.1, 3.2, 3.3, 3.4, 3.5, 3.6, 3.7, 3.8, 3.9, 4.0, 4.1, 4.2, 4.3, 4.4, 4.5, 4.6, 4.7, 4.8, 4.9, 5.0, 5.1, 5.2, 5.3, 5.4, 5.5, 5.6, 5.7, 5.8, 5.9, 6.0, 6.1, 6.2, 6.3, 6.4, 6.5, 6.6, 6.7, 6.8, 6.9, 7.0, 7.1, 7.2, 7.3, 7.4, 7.5, 7.6, 7.7, 7.8, 7.9, 8.0, 8.1, 8.2, 8.3, 8.4, 8.5, 8.6, 8.7, 8.8, 8.9, 9.0, 9.1, 9.2, 9.3, 9.4, 9.5, 9.6, 9.7, 9.8, 9.9]\n"
     ]
    }
   ],
   "source": [
    "a=[1, 2, 3, 4, 5, 6, 7, 8, 9, 10]\n",
    "x=[]\n",
    "y=[]\n",
    "for i in range(len(a)*10):\n",
    "    x.append(i/10)\n",
    "#print(x)\n",
    "## y x'in kareleri\n",
    "y=[i*i for i in x]"
   ]
  },
  {
   "cell_type": "code",
   "execution_count": 10,
   "metadata": {},
   "outputs": [
    {
     "data": {
      "image/png": "[encoded data removed]",
      "text/plain": [
       "<Figure size 432x288 with 1 Axes>"
      ]
     },
     "metadata": {},
     "output_type": "display_data"
    }
   ],
   "source": [
    "plt.plot(x,y)\n",
    "plt.show()"
   ]
  },
  {
   "cell_type": "code",
   "execution_count": 55,
   "metadata": {},
   "outputs": [
    {
     "data": {
      "image/png": "[encoded data removed]",
      "text/plain": [
       "<Figure size 432x288 with 1 Axes>"
      ]
     },
     "metadata": {},
     "output_type": "display_data"
    }
   ],
   "source": [
    "x=list(range(-10,11))\n",
    "y=[i*i for i in x]\n",
    "plt.plot(x,y)\n",
    "plt.show()"
   ]
  },
  {
   "cell_type": "code",
   "execution_count": 14,
   "metadata": {},
   "outputs": [
    {
     "data": {
      "image/png": "[encoded data removed]",
      "text/plain": [
       "<Figure size 432x288 with 1 Axes>"
      ]
     },
     "metadata": {},
     "output_type": "display_data"
    }
   ],
   "source": [
    "import math\n",
    "x=[]\n",
    "sin_x=[]\n",
    "sin_x_arti_60=[]\n",
    "for i in range(100):\n",
    "    x.append(i/(4*math.pi))\n",
    "    sin_x.append(math.sin(i/(4*math.pi)))\n",
    "    sin_x_arti_60.append(math.sin(i/(4*math.pi)+(math.pi/3)))  \n",
    "\n",
    "plt.plot(x,sin_x,color=\"red\")\n",
    "plt.plot(x,sin_x_arti_60,color=\"green\")\n",
    "plt.show()   "
   ]
  }
 ],
 "metadata": {
  "kernelspec": {
   "display_name": "Python 3",
   "language": "python",
   "name": "python3"
  },
  "language_info": {
   "codemirror_mode": {
    "name": "ipython",
    "version": 3
   },
   "file_extension": ".py",
   "mimetype": "text/x-python",
   "name": "python",
   "nbconvert_exporter": "python",
   "pygments_lexer": "ipython3",
   "version": "3.6.5"
  }
 },
 "nbformat": 4,
 "nbformat_minor": 2
}
